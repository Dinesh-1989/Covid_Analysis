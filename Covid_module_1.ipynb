{
 "cells": [
  {
   "cell_type": "code",
   "execution_count": 2,
   "id": "1835d4d9",
   "metadata": {},
   "outputs": [
    {
     "name": "stdout",
     "output_type": "stream",
     "text": [
      "Modules are imported.\n"
     ]
    }
   ],
   "source": [
    "##Module : COVID Data analysis\n",
    "#Author  : DBN\n",
    "#Date    : 21-Nov-21\n",
    "\n",
    "#Import Modules\n",
    "\n",
    "try:\n",
    "        import pandas as pd \n",
    "        import numpy as np \n",
    "        import seaborn as sns\n",
    "        import matplotlib.pyplot as plt \n",
    "        from pandas.tseries.offsets import MonthEnd\n",
    "        import calendar\n",
    "        print('Modules are imported.') \n",
    "except Exception as e:\n",
    "        print(e)  "
   ]
  },
  {
   "cell_type": "code",
   "execution_count": 3,
   "id": "903583e2",
   "metadata": {},
   "outputs": [],
   "source": [
    "#import input file and create datasets\n",
    "\n",
    "try:\n",
    "    src_data    = pd.read_csv(\"yourfile.csv\")\n",
    "    \n",
    "    #basic cleanup & renaming\n",
    "    data_main   = src_data.rename(columns={'Country/Region':'Country_Region','Province/State':'Province_State'})\n",
    "    \n",
    "    #remove nulls in numeric columns\n",
    "    #convert blanks in numeric columns to zero\n",
    "    \n",
    "    cols = [\"Confirmed\",\"Recovered\",\"Deaths\"]\n",
    "    data_main[cols] = data_main[cols].replace(np.nan,0)\n",
    "    \n",
    "    \n",
    "    convert_dict = {'Confirmed': int,'Recovered': int,'Deaths':int}\n",
    "    data_main = data_main.astype(convert_dict)\n",
    "    \n",
    "    #index_by_date : to be used later for insert/update\n",
    "    data_by_date=data_main.set_index('Date')\n",
    " \n",
    "    \n",
    "    rows_loaded = \"No., of rows loaded :\" + str(data_main.shape[0])\n",
    "    #later to be used to validate if all rows are inserted from src\n",
    "\n",
    "    \n",
    "    #without_province column dataset as some countries do not have province\n",
    "    data_without_provice = data_main.drop('Province_State',axis='columns')\n",
    "    \n",
    "\n",
    "    data_without_provice['Month'] = pd.DatetimeIndex(data_without_provice['Date']).month\n",
    "    data_without_provice['Year'] = pd.DatetimeIndex(data_without_provice['Date']).year\n",
    "    data_without_provice['Month'] = data_without_provice['Month'].apply(lambda x: calendar.month_abbr[x])\n",
    "    \n",
    "    \n",
    "    w_dataset_1 = pd.DataFrame(data_without_provice)\n",
    "    #dataset_1.set_index(['Date'],inplace=True)  \n",
    "\n",
    "    \n",
    "    #withproovince - countries with province\n",
    "    country_with_province = data_main.dropna(subset=['Province_State'],how='all')\n",
    "    \n",
    "    \n",
    "except Exception as e:\n",
    "    print(e)  "
   ]
  },
  {
   "cell_type": "code",
   "execution_count": 4,
   "id": "17e3b6ed",
   "metadata": {},
   "outputs": [],
   "source": [
    "#total confirmed, recovered and death as of latest data\n",
    "try:\n",
    "  \n",
    "    ws_1 = w_dataset_1.drop(['Date','Recovered','Month','Year'], axis='columns')\n",
    "    ws_1.reset_index(inplace=True)\n",
    "    ws_1 = ws_1.loc[ws_1.groupby('Country_Region')['Confirmed'].idxmax()]\n",
    "    ws_1 = ws_1.drop(['index'], axis='columns')\n",
    "    #total_recovered\n",
    "    ws_2 = w_dataset_1.drop(['Date','Confirmed','Deaths','Month','Year'], axis='columns')\n",
    "    ws_3 = ws_2.loc[ws_2.groupby('Country_Region')['Recovered'].idxmax()]\n",
    "\n",
    "    total_latest = ws_1.merge(ws_3,on='Country_Region')\n",
    "    \n",
    "except Exception as e:\n",
    "    print(e)"
   ]
  },
  {
   "cell_type": "code",
   "execution_count": 5,
   "id": "20ade385",
   "metadata": {},
   "outputs": [
    {
     "name": "stdout",
     "output_type": "stream",
     "text": [
      "Top 10 countries with highest cases \n"
     ]
    },
    {
     "data": {
      "text/html": [
       "<div>\n",
       "<style scoped>\n",
       "    .dataframe tbody tr th:only-of-type {\n",
       "        vertical-align: middle;\n",
       "    }\n",
       "\n",
       "    .dataframe tbody tr th {\n",
       "        vertical-align: top;\n",
       "    }\n",
       "\n",
       "    .dataframe thead th {\n",
       "        text-align: right;\n",
       "    }\n",
       "</style>\n",
       "<table border=\"1\" class=\"dataframe\">\n",
       "  <thead>\n",
       "    <tr style=\"text-align: right;\">\n",
       "      <th></th>\n",
       "      <th>Country_Region</th>\n",
       "      <th>Confirmed</th>\n",
       "      <th>Deaths</th>\n",
       "      <th>Recovered</th>\n",
       "    </tr>\n",
       "  </thead>\n",
       "  <tbody>\n",
       "    <tr>\n",
       "      <th>0</th>\n",
       "      <td>US</td>\n",
       "      <td>47221549</td>\n",
       "      <td>764363</td>\n",
       "      <td>6298082</td>\n",
       "    </tr>\n",
       "    <tr>\n",
       "      <th>1</th>\n",
       "      <td>India</td>\n",
       "      <td>34447536</td>\n",
       "      <td>463655</td>\n",
       "      <td>30974748</td>\n",
       "    </tr>\n",
       "    <tr>\n",
       "      <th>2</th>\n",
       "      <td>Brazil</td>\n",
       "      <td>21960766</td>\n",
       "      <td>611346</td>\n",
       "      <td>17771228</td>\n",
       "    </tr>\n",
       "    <tr>\n",
       "      <th>3</th>\n",
       "      <td>United Kingdom</td>\n",
       "      <td>9600369</td>\n",
       "      <td>142945</td>\n",
       "      <td>8322</td>\n",
       "    </tr>\n",
       "    <tr>\n",
       "      <th>4</th>\n",
       "      <td>Russia</td>\n",
       "      <td>8956136</td>\n",
       "      <td>251796</td>\n",
       "      <td>5609682</td>\n",
       "    </tr>\n",
       "    <tr>\n",
       "      <th>5</th>\n",
       "      <td>Turkey</td>\n",
       "      <td>8433988</td>\n",
       "      <td>73746</td>\n",
       "      <td>5478185</td>\n",
       "    </tr>\n",
       "    <tr>\n",
       "      <th>6</th>\n",
       "      <td>France</td>\n",
       "      <td>7109125</td>\n",
       "      <td>115795</td>\n",
       "      <td>342647</td>\n",
       "    </tr>\n",
       "    <tr>\n",
       "      <th>7</th>\n",
       "      <td>Iran</td>\n",
       "      <td>6045212</td>\n",
       "      <td>128272</td>\n",
       "      <td>3444798</td>\n",
       "    </tr>\n",
       "    <tr>\n",
       "      <th>8</th>\n",
       "      <td>Argentina</td>\n",
       "      <td>5307159</td>\n",
       "      <td>116250</td>\n",
       "      <td>4615834</td>\n",
       "    </tr>\n",
       "    <tr>\n",
       "      <th>9</th>\n",
       "      <td>Germany</td>\n",
       "      <td>5091200</td>\n",
       "      <td>97986</td>\n",
       "      <td>3659260</td>\n",
       "    </tr>\n",
       "  </tbody>\n",
       "</table>\n",
       "</div>"
      ],
      "text/plain": [
       "   Country_Region  Confirmed  Deaths  Recovered\n",
       "0              US   47221549  764363    6298082\n",
       "1           India   34447536  463655   30974748\n",
       "2          Brazil   21960766  611346   17771228\n",
       "3  United Kingdom    9600369  142945       8322\n",
       "4          Russia    8956136  251796    5609682\n",
       "5          Turkey    8433988   73746    5478185\n",
       "6          France    7109125  115795     342647\n",
       "7            Iran    6045212  128272    3444798\n",
       "8       Argentina    5307159  116250    4615834\n",
       "9         Germany    5091200   97986    3659260"
      ]
     },
     "execution_count": 5,
     "metadata": {},
     "output_type": "execute_result"
    }
   ],
   "source": [
    "print('Top 10 countries with highest cases ')\n",
    "top_10=total_latest.nlargest(10,['Confirmed'])\n",
    "top_10.reset_index(inplace=True)\n",
    "top_10 = top_10.drop(['index'], axis='columns')\n",
    "top_10"
   ]
  },
  {
   "cell_type": "code",
   "execution_count": 5,
   "id": "435afd67",
   "metadata": {},
   "outputs": [
    {
     "data": {
      "text/plain": [
       "<AxesSubplot:>"
      ]
     },
     "execution_count": 5,
     "metadata": {},
     "output_type": "execute_result"
    },
    {
     "data": {
      "image/png": "[encoded data removed]",
      "text/plain": [
       "<Figure size 432x288 with 1 Axes>"
      ]
     },
     "metadata": {},
     "output_type": "display_data"
    }
   ],
   "source": [
    "sns.set()\n",
    "top_10.set_index('Country_Region').T.plot(kind='bar', stacked=True)"
   ]
  },
  {
   "cell_type": "code",
   "execution_count": null,
   "id": "a94cd4fc",
   "metadata": {},
   "outputs": [],
   "source": [
    "#consolidate data as per month,year and country\n",
    "#try:\n",
    "    #last_day_month = max(w_dataset_1['Date'])\n",
    "    #w_dataset_1['EndOfMonth'] = pd.to_datetime(w_dataset_1['Date']) + MonthEnd(0)\n",
    "    #w_dataset_1['Flag'] = np.where(w_dataset_1['Date']==w_dataset_1['EndOfMonth'], 'True','False')  \n",
    "    #w_dataset_2 = w_dataset_1[w_dataset_1.Flag != 'False']\n",
    "\n",
    "    #final_1 = w_dataset_2.drop(['EndOfMonth', 'Flag'], axis='columns')\n",
    "    #final_1.set_index('Country_Region')\n",
    "\n",
    "    \n",
    "#except Exception as e:\n",
    "    #print(e) "
   ]
  }
 ],
 "metadata": {
  "kernelspec": {
   "display_name": "Python 3",
   "language": "python",
   "name": "python3"
  },
  "language_info": {
   "codemirror_mode": {
    "name": "ipython",
    "version": 3
   },
   "file_extension": ".py",
   "mimetype": "text/x-python",
   "name": "python",
   "nbconvert_exporter": "python",
   "pygments_lexer": "ipython3",
   "version": "3.8.8"
  }
 },
 "nbformat": 4,
 "nbformat_minor": 5
}
